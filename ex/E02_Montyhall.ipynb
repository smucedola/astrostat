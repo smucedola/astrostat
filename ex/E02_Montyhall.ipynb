{
 "cells": [
  {
   "cell_type": "code",
   "execution_count": 8,
   "id": "cf28b5d0",
   "metadata": {},
   "outputs": [],
   "source": [
    "#importing packages\n",
    "import numpy as np\n",
    "from numpy import random as rnd\n",
    "import matplotlib.pyplot as plt\n",
    "from scipy.optimize import fsolve\n",
    "from tqdm.notebook import tqdm\n",
    "\n",
    "# plot options\n",
    "rc = {\"text.usetex\": True,\n",
    "      \"font.family\": \"serif\",\n",
    "      \"font.sans-serif\": [\"Computer Modern\"]\n",
    "     }\n",
    "plt.rcParams.update(rc)\n",
    "\n",
    "%config InlineBackend.figure_format='retina'"
   ]
  },
  {
   "cell_type": "code",
   "execution_count": 9,
   "id": "dde920f2",
   "metadata": {},
   "outputs": [],
   "source": [
    "def players_old(player, doors):\n",
    "\n",
    "    if player == 'switcher': \n",
    "        a = rnd.choice(doors)\n",
    "        #print(a)\n",
    "        \n",
    "        if a == 1:          #in this case the switcher will always lose\n",
    "            newdoors = np.delete(doors, (doors == a).argmax())   #remove previous door from possible choices\n",
    "            newdoors = np.delete(newdoors, (newdoors == 0).argmax())   #the presenter removes a goat\n",
    "            return rnd.choice(newdoors)  #[0]\n",
    "            \n",
    "        elif a == 0:        #in this case the switcher will always win\n",
    "            newdoors = np.delete(doors, (doors == a).argmax())   #remove previous door from possible choices\n",
    "            newdoors = np.delete(newdoors, (newdoors == 0).argmax())   #the presenter removes a goat\n",
    "            return rnd.choice(newdoors)  #[1]\n",
    "        \n",
    "        else:\n",
    "            return 2\n",
    "            \n",
    "    if player == 'conservative':\n",
    "        return rnd.choice(doors)\n",
    "        #print(b)\n",
    "\n",
    "    if player == 'newcomer':\n",
    "        newdoors = np.delete(doors, (doors == 0).argmax())   #the presenter removes a goat\n",
    "        return rnd.choice(newdoors)\n",
    "        #print(newdoors)\n",
    "        #print(c)\n",
    "    \n",
    "    return 0"
   ]
  },
  {
   "cell_type": "markdown",
   "id": "238e83fa",
   "metadata": {},
   "source": [
    "In the task above we implemented this condition check, but you can see they actually do the same thing regardless of the value of a so we can just remove this condition"
   ]
  },
  {
   "cell_type": "markdown",
   "id": "841bb308",
   "metadata": {},
   "source": [
    "```\n",
    "if a == 1:          #in this case the switcher will always lose\n",
    "    newdoors = np.delete(doors, (doors == a).argmax())   #remove previous door from possible choices\n",
    "    newdoors = np.delete(newdoors, (newdoors == 0).argmax())   #the presenter removes a goat\n",
    "    return rnd.choice(newdoors)  #[0]\n",
    "\n",
    "elif a == 0:        #in this case the switcher will always win\n",
    "    newdoors = np.delete(doors, (doors == a).argmax())   #remove previous door from possible choices\n",
    "    newdoors = np.delete(newdoors, (newdoors == 0).argmax())   #the presenter removes a goat\n",
    "    return rnd.choice(newdoors)  #[1]\n",
    "    \n",
    "```"
   ]
  },
  {
   "cell_type": "markdown",
   "id": "7b4339b9",
   "metadata": {},
   "source": [
    "so our function becomes"
   ]
  },
  {
   "cell_type": "code",
   "execution_count": 10,
   "id": "93ab3bfa",
   "metadata": {},
   "outputs": [],
   "source": [
    "def players(player, doors):\n",
    "\n",
    "    if player == 'switcher': \n",
    "        a = rnd.choice(doors)\n",
    "        #print(a)\n",
    "        newdoors = np.delete(doors, (doors == a).argmax())   #remove previous door from possible choices\n",
    "        newdoors = np.delete(newdoors, (newdoors == 0).argmax())   #the presenter removes a goat\n",
    "        return rnd.choice(newdoors)  #[0] if a = 1, [0] if a = 1\n",
    "\n",
    "    if player == 'conservative':\n",
    "        return rnd.choice(doors)\n",
    "        #print(b)\n",
    "\n",
    "    if player == 'newcomer':\n",
    "        newdoors = np.delete(doors, (doors == 0).argmax())   #the presenter removes a goat\n",
    "        return rnd.choice(newdoors)\n",
    "        #print(newdoors)\n",
    "        #print(c)\n",
    "    \n",
    "    return 0"
   ]
  },
  {
   "cell_type": "code",
   "execution_count": 11,
   "id": "d8ef6713",
   "metadata": {},
   "outputs": [],
   "source": [
    "game = np.array([0,1,0])\n",
    "names = ['switcher', 'conservative', 'newcomer']\n",
    "\n",
    "#players(names[0], game)"
   ]
  },
  {
   "cell_type": "code",
   "execution_count": 14,
   "id": "9677c8c2",
   "metadata": {},
   "outputs": [
    {
     "data": {
      "application/vnd.jupyter.widget-view+json": {
       "model_id": "038f321e6b9745fdad8557d76d0eaf36",
       "version_major": 2,
       "version_minor": 0
      },
      "text/plain": [
       "  0%|          | 0/1000 [00:00<?, ?it/s]"
      ]
     },
     "metadata": {},
     "output_type": "display_data"
    },
    {
     "name": "stdout",
     "output_type": "stream",
     "text": [
      "[[666 321 497]\n",
      " [672 330 486]\n",
      " [675 333 524]]\n",
      "[2013  984 1507]\n"
     ]
    }
   ],
   "source": [
    "total = np.zeros([3])    \n",
    "games = np.array([[1,0,0],[0,1,0],[0,0,1]])\n",
    "\n",
    "#score is a 3darray, this is more computational efficient than running a cycle outside,\n",
    "#In order to keep the score i need to sum the results for all games for all iterations\n",
    "score = np.array([[[players(n,g) for n in names] for g in games] for i in tqdm(range(1000))])\n",
    "#score = [[[players(n,g) for n in names] for g in games] for i in range(1)]\n",
    "#print(score)\n",
    "\n",
    "total_game = np.sum(score,axis=0) #total for each possible game with 1000 iterations\n",
    "total = np.sum(total_game, axis=0)  #total for all games 3000 in total\n",
    "\n",
    "\n",
    "print(total_game)\n",
    "print(total)"
   ]
  },
  {
   "cell_type": "code",
   "execution_count": 15,
   "id": "d2446d20",
   "metadata": {},
   "outputs": [
    {
     "data": {
      "image/png": "[encoded data removed]",
      "text/plain": [
       "<Figure size 640x480 with 1 Axes>"
      ]
     },
     "metadata": {
      "image/png": {
       "height": 414,
       "width": 543
      }
     },
     "output_type": "display_data"
    }
   ],
   "source": [
    "s = len(score) * len(games)\n",
    "plt.bar(names, total/s, color = ['#6096B4', '#7DB9B6', '#FEC868'], edgecolor = 'black', lw=.5); #i'm plotting probabilities"
   ]
  },
  {
   "cell_type": "markdown",
   "id": "9e96f3cb",
   "metadata": {},
   "source": [
    "# Case for 100 doors"
   ]
  },
  {
   "cell_type": "code",
   "execution_count": 16,
   "id": "186d3cc5",
   "metadata": {},
   "outputs": [],
   "source": [
    "#importing packages\n",
    "import numpy as np\n",
    "from numpy import random as rnd\n",
    "import matplotlib.pyplot as plt\n",
    "from scipy.optimize import fsolve\n",
    "from tqdm.notebook import tqdm\n",
    "\n",
    "# plot options\n",
    "rc = {\"text.usetex\": True,\n",
    "      \"font.family\": \"serif\",\n",
    "      \"font.sans-serif\": [\"Computer Modern\"]\n",
    "     }\n",
    "plt.rcParams.update(rc)\n",
    "\n",
    "%config InlineBackend.figure_format='retina'"
   ]
  },
  {
   "cell_type": "code",
   "execution_count": 17,
   "id": "0c1996ed",
   "metadata": {},
   "outputs": [
    {
     "name": "stdout",
     "output_type": "stream",
     "text": [
      "1000000\n"
     ]
    },
    {
     "data": {
      "text/plain": [
       "array([[1., 0., 0., ..., 0., 0., 0.],\n",
       "       [0., 1., 0., ..., 0., 0., 0.],\n",
       "       [0., 0., 1., ..., 0., 0., 0.],\n",
       "       ...,\n",
       "       [0., 0., 0., ..., 1., 0., 0.],\n",
       "       [0., 0., 0., ..., 0., 1., 0.],\n",
       "       [0., 0., 0., ..., 0., 0., 1.]])"
      ]
     },
     "execution_count": 17,
     "metadata": {},
     "output_type": "execute_result"
    }
   ],
   "source": [
    "def goatmaker(dim):\n",
    "    games = np.zeros([dim,dim]) #dim games, dim possible positions, so dim^2 runs\n",
    "    \n",
    "    for i in range(dim):\n",
    "        games[i,i] = 1  #all cars in the diagonal\n",
    "        \n",
    "    print(np.size(games))\n",
    "    return games\n",
    "\n",
    "goatmaker(1000)"
   ]
  },
  {
   "cell_type": "markdown",
   "id": "02768759",
   "metadata": {},
   "source": [
    "I now have to reconfigure the presenter, i have to iterate the exclusion process. There is a subltelty though, now **the switcher can come back to the car door more than once**, in fact previously the switcher could only select one door and then change to the other, but now the switcher can change more than once. Effectively, the switcher is now able to select the prize door more than once."
   ]
  },
  {
   "cell_type": "code",
   "execution_count": 18,
   "id": "0e7c892d",
   "metadata": {},
   "outputs": [],
   "source": [
    "def nplayers1(player, doors):\n",
    "    \n",
    "    if player == 'switcher': \n",
    "        for i in range(len(doors)-3):\n",
    "            a = rnd.choice(doors)\n",
    "            #newdoors = np.delete(doors, (doors == a).argmax())   #now you can't remove previous door from possible choices\n",
    "            doors = np.delete(doors, (doors == 0).argmax())   #the presenter removes a goat\n",
    "            \n",
    "        #after removing 97 goats i'm back at the normal 3 doors game\n",
    "        \n",
    "        newdoors = np.delete(doors, (doors == a).argmax()) #at the last time i can\n",
    "        newdoors = np.delete(newdoors, (newdoors == 0).argmax())   #the presenter removes a goat\n",
    "        return rnd.choice(newdoors)  #[0] if a = 1, [1] if a = 0\n",
    "\n",
    "\n",
    "    if player == 'conservative':\n",
    "        return rnd.choice(doors)\n",
    "\n",
    "    if player == 'newcomer':\n",
    "        #the presenter removes all goats but one\n",
    "        return rnd.choice([0,1])\n",
    "\n",
    "    return 0"
   ]
  },
  {
   "cell_type": "code",
   "execution_count": 19,
   "id": "88a90c63",
   "metadata": {},
   "outputs": [
    {
     "name": "stdout",
     "output_type": "stream",
     "text": [
      "10000\n",
      "100\n"
     ]
    },
    {
     "data": {
      "text/plain": [
       "1.0"
      ]
     },
     "execution_count": 19,
     "metadata": {},
     "output_type": "execute_result"
    }
   ],
   "source": [
    "d = 100\n",
    "total = np.zeros([d])\n",
    "games = goatmaker(d)\n",
    "names = ['switcher', 'conservative', 'newcomer']\n",
    "\n",
    "print(len(games[0]))\n",
    "\n",
    "nplayers1(names[0], games[0])"
   ]
  },
  {
   "cell_type": "code",
   "execution_count": 20,
   "id": "acb4bcb5",
   "metadata": {},
   "outputs": [
    {
     "data": {
      "application/vnd.jupyter.widget-view+json": {
       "model_id": "d29ee1a39a5749a88128cadd24e874ff",
       "version_major": 2,
       "version_minor": 0
      },
      "text/plain": [
       "  0%|          | 0/100 [00:00<?, ?it/s]"
      ]
     },
     "metadata": {},
     "output_type": "display_data"
    },
    {
     "name": "stdout",
     "output_type": "stream",
     "text": [
      "[7479.   74. 5009.]\n"
     ]
    }
   ],
   "source": [
    "N = 100\n",
    "\n",
    "score = np.array([[[nplayers1(n,g) for n in names] for g in games] for i in tqdm(range(N))])\n",
    "\n",
    "total_game = np.sum(score, axis=0) #total for each possible game with 1000 iterations\n",
    "total = np.sum(total_game, axis=0)  #total for all games 1000*1000 in total\n",
    "\n",
    "\n",
    "print(total)"
   ]
  },
  {
   "cell_type": "code",
   "execution_count": 21,
   "id": "beb4f403",
   "metadata": {},
   "outputs": [
    {
     "data": {
      "image/png": "[encoded data removed]",
      "text/plain": [
       "<Figure size 640x480 with 1 Axes>"
      ]
     },
     "metadata": {
      "image/png": {
       "height": 411,
       "width": 543
      }
     },
     "output_type": "display_data"
    }
   ],
   "source": [
    "s = len(score) * len(games)\n",
    "plt.bar(names, total/s, color = ['#6096B4', '#7DB9B6', '#FEC868'], edgecolor = 'black', lw=.5); #i'm plotting probabilities"
   ]
  },
  {
   "cell_type": "markdown",
   "id": "c3156c34",
   "metadata": {},
   "source": [
    "the chances increased from 66% to 75%, now what happens if i let the switcher switch only the doors he hasn't opened yet?"
   ]
  },
  {
   "cell_type": "code",
   "execution_count": 22,
   "id": "d43615c1",
   "metadata": {},
   "outputs": [],
   "source": [
    "def nplayers2(player, doors):\n",
    "    \n",
    "    if player == 'switcher': \n",
    "        a = 0\n",
    "        newdoors = np.delete(doors, (doors == a).argmax())   #now you can remove previous door from possible choices\n",
    "        \n",
    "        for i in range(int(len(doors)/2 - 1)): #now i remove two doors at a time\n",
    "            newdoors = np.delete(newdoors, (newdoors == a).argmax())\n",
    "            newdoors = np.delete(newdoors, (newdoors == 0).argmax())   #the presenter removes a goat\n",
    "            a = rnd.choice(newdoors)\n",
    "            #print(a)\n",
    "            #print(newdoors)\n",
    "\n",
    "    \n",
    "        return rnd.choice(newdoors)  #[0] if a = 1, [1] if a = 0\n",
    "\n",
    "\n",
    "    if player == 'conservative':\n",
    "        return rnd.choice(doors)\n",
    "\n",
    "    if player == 'newcomer':\n",
    "        #the presenter removes all goats but one\n",
    "        return rnd.choice([0,1])\n",
    "            \n",
    "    return 0"
   ]
  },
  {
   "cell_type": "code",
   "execution_count": 23,
   "id": "92d7e287",
   "metadata": {},
   "outputs": [
    {
     "name": "stdout",
     "output_type": "stream",
     "text": [
      "10000\n",
      "100\n"
     ]
    },
    {
     "data": {
      "text/plain": [
       "0.0"
      ]
     },
     "execution_count": 23,
     "metadata": {},
     "output_type": "execute_result"
    }
   ],
   "source": [
    "d = 100\n",
    "total = np.zeros([d])\n",
    "games = goatmaker(d)\n",
    "names = ['switcher', 'conservative', 'newcomer']\n",
    "\n",
    "print(len(games[0]))\n",
    "\n",
    "nplayers2(names[0], games[0])"
   ]
  },
  {
   "cell_type": "code",
   "execution_count": 24,
   "id": "32bd7976",
   "metadata": {
    "scrolled": false
   },
   "outputs": [
    {
     "data": {
      "application/vnd.jupyter.widget-view+json": {
       "model_id": "ed63c5669d944b1181e1c9cdc0b72f69",
       "version_major": 2,
       "version_minor": 0
      },
      "text/plain": [
       "  0%|          | 0/100 [00:00<?, ?it/s]"
      ]
     },
     "metadata": {},
     "output_type": "display_data"
    },
    {
     "name": "stdout",
     "output_type": "stream",
     "text": [
      "[1284.  113. 5011.]\n"
     ]
    }
   ],
   "source": [
    "N = 100\n",
    "\n",
    "score = np.array([[[nplayers2(n,g) for n in names] for g in games] for i in tqdm(range(N))])\n",
    "\n",
    "total_game = np.sum(score, axis=0) #total for each possible game with 1000 iterations\n",
    "total = np.sum(total_game, axis=0)  #total for all games 1000*1000 in total\n",
    "\n",
    "print(total)"
   ]
  },
  {
   "cell_type": "code",
   "execution_count": 25,
   "id": "c90fa65d",
   "metadata": {},
   "outputs": [
    {
     "data": {
      "image/png": "[encoded data removed]",
      "text/plain": [
       "<Figure size 640x480 with 1 Axes>"
      ]
     },
     "metadata": {
      "image/png": {
       "height": 411,
       "width": 543
      }
     },
     "output_type": "display_data"
    }
   ],
   "source": [
    "s = len(score) * len(games)\n",
    "plt.bar(names, total/s, color = ['#6096B4', '#7DB9B6', '#FEC868'], edgecolor = 'black', lw=.5); #i'm plotting probabilities"
   ]
  },
  {
   "cell_type": "markdown",
   "id": "b728b0a6",
   "metadata": {},
   "source": [
    "# Understanding these results\n",
    "Lets focus on the 100 doors and choose a game, we now want to understand how the switcher chances change depending on wether he is allowed to select the door again or not"
   ]
  },
  {
   "cell_type": "code",
   "execution_count": 28,
   "id": "36b0db84",
   "metadata": {},
   "outputs": [
    {
     "data": {
      "application/vnd.jupyter.widget-view+json": {
       "model_id": "fbecbcc7f7cb46ae950544b87547294d",
       "version_major": 2,
       "version_minor": 0
      },
      "text/plain": [
       "  0%|          | 0/10000 [00:00<?, ?it/s]"
      ]
     },
     "metadata": {},
     "output_type": "display_data"
    },
    {
     "data": {
      "application/vnd.jupyter.widget-view+json": {
       "model_id": "16d36ae316334fcdabb3e0848438e43f",
       "version_major": 2,
       "version_minor": 0
      },
      "text/plain": [
       "  0%|          | 0/10000 [00:00<?, ?it/s]"
      ]
     },
     "metadata": {},
     "output_type": "display_data"
    },
    {
     "name": "stdout",
     "output_type": "stream",
     "text": [
      "[7454.   98. 5123.]\n",
      "[1327.   92. 5079.]\n"
     ]
    }
   ],
   "source": [
    "N = 10000\n",
    "\n",
    "score1 = np.array([[nplayers1(n,games[0]) for n in names] for i in tqdm(range(N))])\n",
    "score2 = np.array([[nplayers2(n,games[0]) for n in names] for i in tqdm(range(N))])\n",
    "\n",
    "total1 = np.sum(score1, axis=0)\n",
    "total2 = np.sum(score2, axis=0)\n",
    "\n",
    "print(total1)\n",
    "print(total2)"
   ]
  },
  {
   "cell_type": "code",
   "execution_count": 29,
   "id": "7f862ab8",
   "metadata": {
    "scrolled": false
   },
   "outputs": [
    {
     "data": {
      "image/png": "[encoded data removed]",
      "text/plain": [
       "<Figure size 640x480 with 2 Axes>"
      ]
     },
     "metadata": {
      "image/png": {
       "height": 459,
       "width": 543
      }
     },
     "output_type": "display_data"
    }
   ],
   "source": [
    "s = len(score1)\n",
    "fig, (ax1, ax2) = plt.subplots(1, 2)\n",
    "fig.suptitle('Switcher behaviour')\n",
    "ax1.bar(names, total1/s, color = ['#6096B4', '#7DB9B6', '#FEC868'], edgecolor = 'black', lw=.5); #i'm plotting probabilities\n",
    "ax2.bar(names, total2/s, color = ['#6096B4', '#7DB9B6', '#FEC868'], edgecolor = 'black', lw=.5); #i'm plotting probabilities"
   ]
  }
 ],
 "metadata": {
  "kernelspec": {
   "display_name": "Python 3 (ipykernel)",
   "language": "python",
   "name": "python3"
  },
  "language_info": {
   "codemirror_mode": {
    "name": "ipython",
    "version": 3
   },
   "file_extension": ".py",
   "mimetype": "text/x-python",
   "name": "python",
   "nbconvert_exporter": "python",
   "pygments_lexer": "ipython3",
   "version": "3.10.9"
  }
 },
 "nbformat": 4,
 "nbformat_minor": 5
}
