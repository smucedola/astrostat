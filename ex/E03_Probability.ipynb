{
 "cells": [
  {
   "cell_type": "markdown",
   "id": "061124aa",
   "metadata": {},
   "source": [
    "# Estimators and Percentiles"
   ]
  },
  {
   "cell_type": "markdown",
   "id": "f4d1dc45",
   "metadata": {},
   "source": [
    "We want to compare the formulas of the uncertainties of the mean and the variance **estimators** with the actual data computed ones. "
   ]
  },
  {
   "cell_type": "code",
   "execution_count": 1,
   "id": "607e5cdb",
   "metadata": {},
   "outputs": [],
   "source": [
    "import numpy as np\n",
    "import matplotlib.pyplot as plt"
   ]
  },
  {
   "cell_type": "code",
   "execution_count": 3,
   "id": "f3f5268f",
   "metadata": {},
   "outputs": [],
   "source": [
    "# plot options\n",
    "rc = {\"text.usetex\": True,\n",
    "      \"font.family\": \"serif\",\n",
    "      \"font.sans-serif\": [\"Computer Modern\"]\n",
    "     }\n",
    "plt.rcParams.update(rc)\n",
    "\n",
    "%config InlineBackend.figure_format='retina'"
   ]
  },
  {
   "cell_type": "markdown",
   "id": "2702dc32",
   "metadata": {},
   "source": [
    "### Example for one distribution generation"
   ]
  },
  {
   "cell_type": "code",
   "execution_count": 4,
   "id": "a3b945be",
   "metadata": {},
   "outputs": [
    {
     "data": {
      "image/png": "[encoded data removed]",
      "text/plain": [
       "<Figure size 640x480 with 1 Axes>"
      ]
     },
     "metadata": {
      "image/png": {
       "height": 416,
       "width": 539
      }
     },
     "output_type": "display_data"
    }
   ],
   "source": [
    "#let's generate some data\n",
    "N = 1000\n",
    "x_i = np.random.normal(2,.1,N)\n",
    "plt.hist(x_i, color='C0',bins=100,histtype='step');\n",
    "plt.ylim(0,40);"
   ]
  },
  {
   "cell_type": "code",
   "execution_count": 5,
   "id": "138e9c02",
   "metadata": {},
   "outputs": [],
   "source": [
    "# now let's estimate the momenta with their respective errors\n",
    "popmean = 1/N*np.sum(x_i)\n",
    "popdev = x_i - popmean\n",
    "popvar = 1/(N-1)*np.sum(popdev**2)"
   ]
  },
  {
   "cell_type": "code",
   "execution_count": 6,
   "id": "335a6c9b",
   "metadata": {},
   "outputs": [],
   "source": [
    "#the data momenta are calculated b\n",
    "datamean = np.mean(x_i)\n",
    "datavar = np.var(x_i)"
   ]
  },
  {
   "cell_type": "code",
   "execution_count": 7,
   "id": "da278e70",
   "metadata": {},
   "outputs": [
    {
     "name": "stdout",
     "output_type": "stream",
     "text": [
      "mean           variance\n",
      "--------------------------\n",
      "2.00068        0.00949\n"
     ]
    }
   ],
   "source": [
    "headers = ['mean', 'variance']\n",
    "print(f'{headers[0]: <15}{headers[1]}')\n",
    "print('--------------------------')\n",
    "print(f'{round(popmean,5): <15}{round(popvar,5)}')"
   ]
  },
  {
   "cell_type": "markdown",
   "id": "1c4035ef",
   "metadata": {},
   "source": [
    "To estimate the error and then compare it we need to\n",
    "generate multiple datas and then compute the stdev of the datas and finaly compare it with the following definitions"
   ]
  },
  {
   "cell_type": "code",
   "execution_count": 8,
   "id": "7eb87f73",
   "metadata": {},
   "outputs": [],
   "source": [
    "sigmamean = popdev/np.sqrt(N)\n",
    "sigmavar = np.sqrt(N)/np.sqrt(2*(N-1))*sigmamean\n",
    "approx = np.sqrt(2)*sigmamean"
   ]
  },
  {
   "cell_type": "markdown",
   "id": "81f8ebd2",
   "metadata": {},
   "source": [
    "### Example for (times) distributions"
   ]
  },
  {
   "cell_type": "code",
   "execution_count": 15,
   "id": "8ef8fdc2",
   "metadata": {},
   "outputs": [],
   "source": [
    "def estdev(times):\n",
    "    #this is our data and our est errors\n",
    "    x_i = np.random.normal(2,.1,N)\n",
    "    sigmamean = np.var(x_i)/np.sqrt(N)\n",
    "    sigmavar = np.sqrt(N)/np.sqrt(2*(N-1))*sigmamean\n",
    "    \n",
    "    \n",
    "    means = np.empty(times)\n",
    "    varss = np.empty(times)\n",
    "    \n",
    "    for i in range(times):\n",
    "        #let's generate some data\n",
    "        x_i = np.random.normal(2,.1,N)\n",
    "        means[i] = np.mean(x_i)  #it's the same function\n",
    "        varss[i] = np.var(x_i)\n",
    "\n",
    "\n",
    "    # print output\n",
    "    headers = ['mean_err', 'variance_err']\n",
    "    print(f'{headers[0]: <15}{headers[1]}')\n",
    "    print('--------------------------')\n",
    "    print(f'{round(np.std(means),5): <15}{round(np.std(varss),5)}     mean errors from {times} distributions')\n",
    "    print(f'{round(sigmamean,5): <15}{round(sigmavar,5)}     estimated deviation from true value from formulas') \n",
    "    print()"
   ]
  },
  {
   "cell_type": "code",
   "execution_count": 14,
   "id": "75b0b3bb",
   "metadata": {},
   "outputs": [
    {
     "name": "stdout",
     "output_type": "stream",
     "text": [
      "mean_err       variance_err\n",
      "--------------------------\n",
      "0.00287        0.00044     mean errors from 100 distributions\n",
      "0.00032        0.00023     estimated deviation from true value from formulas\n",
      "\n",
      "mean_err       variance_err\n",
      "--------------------------\n",
      "0.00305        0.00044     mean errors from 1000 distributions\n",
      "0.00031        0.00022     estimated deviation from true value from formulas\n",
      "\n",
      "mean_err       variance_err\n",
      "--------------------------\n",
      "0.00318        0.00045     mean errors from 100000 distributions\n",
      "0.00031        0.00022     estimated deviation from true value from formulas\n",
      "\n"
     ]
    }
   ],
   "source": [
    "estdev(int(1e2))\n",
    "estdev(int(1e3))\n",
    "estdev(int(1e5))"
   ]
  },
  {
   "cell_type": "markdown",
   "id": "8bde1d21",
   "metadata": {},
   "source": [
    "I suspect something is wrong, the error estimate seems a bit too forgiving..."
   ]
  },
  {
   "cell_type": "markdown",
   "id": "1608352c",
   "metadata": {},
   "source": [
    "# Exercise"
   ]
  },
  {
   "cell_type": "markdown",
   "id": "f0553162",
   "metadata": {},
   "source": [
    "### 1. A gaussian integral\n",
    "\n",
    "Using Monte Carlo integration, check that\n",
    "\n",
    "$$ \\int_0^\\infty x^3 \\exp\\left(-\\frac{x^2}{2\\sigma^2}\\right) \\,dx = 2\\sigma^4 .$$\n",
    "\n",
    "- Does the result converge with the number of samples? And how does the error go down?\n",
    "- Do it many times. For a given $N$, how are the result distributed? We'll talk about model fitting at lenght later on, but for now try to fit it by hand with a parametrized model. (If N is large enough you should get something that looks *very* accurate!)\n",
    "- How does the distribution change if $N$ increases?\n",
    "\n",
    "(Hint: think about sample mean and sample variance)"
   ]
  },
  {
   "cell_type": "code",
   "execution_count": null,
   "id": "737a402c",
   "metadata": {},
   "outputs": [],
   "source": []
  },
  {
   "cell_type": "markdown",
   "id": "8142dec8",
   "metadata": {},
   "source": [
    "### 2. Kicking horses\n",
    "\n",
    "A famous early  application of low-number statistics was an analysis of Prussian cavalryman horse-kick deaths by [Bortkiewicz](https://www.wikiwand.com/en/Ladislaus_Bortkiewicz) in 1898.\n",
    "\n",
    "He studied the distribution of 122 men kicked to death by horses among 10 Prussian army corps within 20 years (so a total number of corpes of 200). He recorded the number of corps with a given number of deaths:\n",
    "\n",
    "| Number of deaths | Number of groups |\n",
    "| --- | --- |\n",
    "| 0 | 109 |\n",
    "| 1 | 65 |\n",
    "| 2 | 22 |\n",
    "| 3 | 3 |\n",
    "| 4 | 1 |\n",
    "\n",
    "- Plot the resulting probability distribution. Careful with the normalization\n",
    "- How does it look like? Again try to fit it by hand.\n",
    "\n",
    "(Hint: think about sample mean and sample variance)\n"
   ]
  },
  {
   "cell_type": "code",
   "execution_count": null,
   "id": "526bc9b8",
   "metadata": {},
   "outputs": [],
   "source": []
  }
 ],
 "metadata": {
  "kernelspec": {
   "display_name": "Python 3 (ipykernel)",
   "language": "python",
   "name": "python3"
  },
  "language_info": {
   "codemirror_mode": {
    "name": "ipython",
    "version": 3
   },
   "file_extension": ".py",
   "mimetype": "text/x-python",
   "name": "python",
   "nbconvert_exporter": "python",
   "pygments_lexer": "ipython3",
   "version": "3.10.8"
  }
 },
 "nbformat": 4,
 "nbformat_minor": 5
}
