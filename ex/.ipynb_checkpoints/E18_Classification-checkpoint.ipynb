{
 "cells": [
  {
   "cell_type": "markdown",
   "id": "cfc95290",
   "metadata": {},
   "source": [
    "I downloaded data from [this file](https://github.com/dgerosa/pdetclassifier/releases/download/v0.2/sample_2e7_design_precessing_higherordermodes_3detectors.h5), now let's classify this dataset"
   ]
  },
  {
   "cell_type": "code",
   "execution_count": 11,
   "id": "7cf3019c",
   "metadata": {},
   "outputs": [],
   "source": [
    "import h5py\n",
    "import numpy as np\n",
    "import matplotlib.pyplot as plt"
   ]
  },
  {
   "cell_type": "code",
   "execution_count": 14,
   "id": "52f9de9c",
   "metadata": {},
   "outputs": [],
   "source": [
    "f = h5py.File('../astroML_data/sample_2e7_design_precessing_higherordermodes_3detectors.h5', 'r')"
   ]
  },
  {
   "cell_type": "code",
   "execution_count": 15,
   "id": "e0bda0ea",
   "metadata": {},
   "outputs": [
    {
     "data": {
      "text/plain": [
       "['chi1x',\n",
       " 'chi1y',\n",
       " 'chi1z',\n",
       " 'chi2x',\n",
       " 'chi2y',\n",
       " 'chi2z',\n",
       " 'dec',\n",
       " 'det',\n",
       " 'iota',\n",
       " 'mtot',\n",
       " 'psi',\n",
       " 'q',\n",
       " 'ra',\n",
       " 'snr',\n",
       " 'z']"
      ]
     },
     "execution_count": 15,
     "metadata": {},
     "output_type": "execute_result"
    }
   ],
   "source": [
    "list(f.keys())"
   ]
  },
  {
   "cell_type": "code",
   "execution_count": 90,
   "id": "70ee9731",
   "metadata": {},
   "outputs": [
    {
     "data": {
      "text/plain": [
       "array([0.82250949, 1.09323729, 1.30539835, ..., 9.9752885 , 0.92040623,\n",
       "       2.35090701])"
      ]
     },
     "execution_count": 90,
     "metadata": {},
     "output_type": "execute_result"
    }
   ],
   "source": [
    "snr_ds = np.array(f['snr'])\n",
    "snr_ds"
   ]
  },
  {
   "cell_type": "code",
   "execution_count": 91,
   "id": "869159f6",
   "metadata": {},
   "outputs": [],
   "source": [
    "threshold = 12   #snr treshold"
   ]
  },
  {
   "cell_type": "code",
   "execution_count": 92,
   "id": "5515be40",
   "metadata": {},
   "outputs": [
    {
     "name": "stdout",
     "output_type": "stream",
     "text": [
      "[0 0 0 ... 0 0 0]\n"
     ]
    }
   ],
   "source": [
    "det_ds = np.array(f['det'])\n",
    "print(det_ds)"
   ]
  },
  {
   "cell_type": "markdown",
   "id": "5d59ffc3",
   "metadata": {},
   "source": [
    "### Separate sources that are detectables from those that aren't. "
   ]
  },
  {
   "cell_type": "markdown",
   "id": "5968dfc7",
   "metadata": {},
   "source": [
    "We need to define a training set and a validation set of the snr and det"
   ]
  },
  {
   "cell_type": "code",
   "execution_count": 94,
   "id": "c776bbb9",
   "metadata": {},
   "outputs": [],
   "source": [
    "mask = snr_ds < 30\n",
    "det = det_ds[mask]\n",
    "snr = snr_ds[mask]"
   ]
  },
  {
   "cell_type": "code",
   "execution_count": 95,
   "id": "ed0602d2",
   "metadata": {},
   "outputs": [
    {
     "data": {
      "image/png": "[encoded data removed]",
      "text/plain": [
       "<Figure size 640x480 with 1 Axes>"
      ]
     },
     "metadata": {},
     "output_type": "display_data"
    }
   ],
   "source": [
    "plt.hist(snr[det==0], bins = 1000, histtype = 'step');\n",
    "plt.hist(snr[det==1], bins = 1000, histtype = 'step');"
   ]
  },
  {
   "cell_type": "code",
   "execution_count": 130,
   "id": "c76c522a",
   "metadata": {},
   "outputs": [],
   "source": [
    "d = {}\n",
    "\n",
    "for l in f.keys():\n",
    "    d[l] = np.array(f[l])[mask]"
   ]
  },
  {
   "cell_type": "code",
   "execution_count": 131,
   "id": "e56edec7",
   "metadata": {},
   "outputs": [
    {
     "name": "stdout",
     "output_type": "stream",
     "text": [
      "{'chi1x': array([-0.3072008 , -0.7347119 , -0.05783062, ..., -0.55825347,\n",
      "        0.08477457, -0.03595039]), 'chi1y': array([ 0.27616489, -0.49849269, -0.70379617, ..., -0.10758872,\n",
      "       -0.04276202,  0.02875862]), 'chi1z': array([-0.43075952, -0.29816229, -0.35451167, ...,  0.06524619,\n",
      "        0.0177192 , -0.1645164 ]), 'chi2x': array([-0.1611142 ,  0.05753236, -0.21553765, ...,  0.3057056 ,\n",
      "        0.14565681, -0.15248288]), 'chi2y': array([-0.09233378, -0.8449919 ,  0.01632286, ..., -0.21248981,\n",
      "        0.47432107,  0.2724531 ]), 'chi2z': array([-0.41464697,  0.01470768,  0.13054284, ..., -0.41204831,\n",
      "        0.74467675,  0.10790771]), 'dec': array([-0.32967056,  0.52673981,  0.3157986 , ..., -0.23687819,\n",
      "        0.10406303, -0.02080332]), 'det': array([0, 0, 0, ..., 0, 0, 0]), 'iota': array([1.80931011, 0.82081964, 2.0082064 , ..., 0.89474102, 1.10206764,\n",
      "       1.96556987]), 'mtot': array([906.80356183,  59.10211181,  44.60275026, ..., 536.49129182,\n",
      "       879.05515228,  39.57130781]), 'psi': array([1.28603101, 0.93430761, 1.5355196 , ..., 1.77629131, 1.31725074,\n",
      "       2.34256192]), 'q': array([0.62478004, 0.98665033, 0.28619935, ..., 0.90998157, 0.2875865 ,\n",
      "       0.55484975]), 'ra': array([-3.11678443,  1.36029119,  0.07997326, ..., -1.63838095,\n",
      "        2.21193248,  2.5495615 ]), 'snr': array([0.82250949, 1.09323729, 1.30539835, ..., 9.9752885 , 0.92040623,\n",
      "       2.35090701]), 'z': array([2.13965943, 2.43870712, 1.86946125, ..., 0.82663958, 3.12559379,\n",
      "       0.90834967])}\n"
     ]
    }
   ],
   "source": [
    "print(d)"
   ]
  },
  {
   "cell_type": "code",
   "execution_count": 137,
   "id": "6b55dd42",
   "metadata": {},
   "outputs": [
    {
     "name": "stdout",
     "output_type": "stream",
     "text": [
      "(18669802, 3)\n"
     ]
    }
   ],
   "source": [
    "X = np.array([d['z'], d['mtot'], d['q']]).T\n",
    "print(X.shape)"
   ]
  },
  {
   "cell_type": "code",
   "execution_count": 139,
   "id": "ac4f540f",
   "metadata": {
    "scrolled": true
   },
   "outputs": [
    {
     "name": "stdout",
     "output_type": "stream",
     "text": [
      "[0 0 0 ... 0 0 0]\n"
     ]
    }
   ],
   "source": [
    "y = d['det']\n",
    "print(y)"
   ]
  },
  {
   "cell_type": "code",
   "execution_count": 140,
   "id": "5d536f2f",
   "metadata": {},
   "outputs": [],
   "source": [
    "from sklearn.model_selection import train_test_split\n",
    "\n",
    "X_train, X_test, y_train, y_test = train_test_split(X, y, test_size=0.33, random_state=42)"
   ]
  },
  {
   "cell_type": "code",
   "execution_count": 141,
   "id": "e6ee26dc",
   "metadata": {},
   "outputs": [
    {
     "data": {
      "text/plain": [
       "(12508767, 3)"
      ]
     },
     "execution_count": 141,
     "metadata": {},
     "output_type": "execute_result"
    }
   ],
   "source": [
    "X_train.shape"
   ]
  },
  {
   "cell_type": "code",
   "execution_count": 142,
   "id": "e9503c65",
   "metadata": {},
   "outputs": [
    {
     "data": {
      "text/plain": [
       "(12508767,)"
      ]
     },
     "execution_count": 142,
     "metadata": {},
     "output_type": "execute_result"
    }
   ],
   "source": [
    "y_train.shape"
   ]
  },
  {
   "cell_type": "code",
   "execution_count": 143,
   "id": "e12b3e8a",
   "metadata": {},
   "outputs": [],
   "source": [
    "from sklearn.naive_bayes import GaussianNB\n",
    "from sklearn.metrics import roc_curve\n",
    "from sklearn.discriminant_analysis import QuadraticDiscriminantAnalysis\n",
    "from astroML.classification import GMMBayes\n",
    "from sklearn.neighbors import KNeighborsClassifier"
   ]
  },
  {
   "cell_type": "code",
   "execution_count": 147,
   "id": "04265ae8",
   "metadata": {},
   "outputs": [
    {
     "data": {
      "text/html": [
       "<style>#sk-container-id-1 {color: black;background-color: white;}#sk-container-id-1 pre{padding: 0;}#sk-container-id-1 div.sk-toggleable {background-color: white;}#sk-container-id-1 label.sk-toggleable__label {cursor: pointer;display: block;width: 100%;margin-bottom: 0;padding: 0.3em;box-sizing: border-box;text-align: center;}#sk-container-id-1 label.sk-toggleable__label-arrow:before {content: \"▸\";float: left;margin-right: 0.25em;color: #696969;}#sk-container-id-1 label.sk-toggleable__label-arrow:hover:before {color: black;}#sk-container-id-1 div.sk-estimator:hover label.sk-toggleable__label-arrow:before {color: black;}#sk-container-id-1 div.sk-toggleable__content {max-height: 0;max-width: 0;overflow: hidden;text-align: left;background-color: #f0f8ff;}#sk-container-id-1 div.sk-toggleable__content pre {margin: 0.2em;color: black;border-radius: 0.25em;background-color: #f0f8ff;}#sk-container-id-1 input.sk-toggleable__control:checked~div.sk-toggleable__content {max-height: 200px;max-width: 100%;overflow: auto;}#sk-container-id-1 input.sk-toggleable__control:checked~label.sk-toggleable__label-arrow:before {content: \"▾\";}#sk-container-id-1 div.sk-estimator input.sk-toggleable__control:checked~label.sk-toggleable__label {background-color: #d4ebff;}#sk-container-id-1 div.sk-label input.sk-toggleable__control:checked~label.sk-toggleable__label {background-color: #d4ebff;}#sk-container-id-1 input.sk-hidden--visually {border: 0;clip: rect(1px 1px 1px 1px);clip: rect(1px, 1px, 1px, 1px);height: 1px;margin: -1px;overflow: hidden;padding: 0;position: absolute;width: 1px;}#sk-container-id-1 div.sk-estimator {font-family: monospace;background-color: #f0f8ff;border: 1px dotted black;border-radius: 0.25em;box-sizing: border-box;margin-bottom: 0.5em;}#sk-container-id-1 div.sk-estimator:hover {background-color: #d4ebff;}#sk-container-id-1 div.sk-parallel-item::after {content: \"\";width: 100%;border-bottom: 1px solid gray;flex-grow: 1;}#sk-container-id-1 div.sk-label:hover label.sk-toggleable__label {background-color: #d4ebff;}#sk-container-id-1 div.sk-serial::before {content: \"\";position: absolute;border-left: 1px solid gray;box-sizing: border-box;top: 0;bottom: 0;left: 50%;z-index: 0;}#sk-container-id-1 div.sk-serial {display: flex;flex-direction: column;align-items: center;background-color: white;padding-right: 0.2em;padding-left: 0.2em;position: relative;}#sk-container-id-1 div.sk-item {position: relative;z-index: 1;}#sk-container-id-1 div.sk-parallel {display: flex;align-items: stretch;justify-content: center;background-color: white;position: relative;}#sk-container-id-1 div.sk-item::before, #sk-container-id-1 div.sk-parallel-item::before {content: \"\";position: absolute;border-left: 1px solid gray;box-sizing: border-box;top: 0;bottom: 0;left: 50%;z-index: -1;}#sk-container-id-1 div.sk-parallel-item {display: flex;flex-direction: column;z-index: 1;position: relative;background-color: white;}#sk-container-id-1 div.sk-parallel-item:first-child::after {align-self: flex-end;width: 50%;}#sk-container-id-1 div.sk-parallel-item:last-child::after {align-self: flex-start;width: 50%;}#sk-container-id-1 div.sk-parallel-item:only-child::after {width: 0;}#sk-container-id-1 div.sk-dashed-wrapped {border: 1px dashed gray;margin: 0 0.4em 0.5em 0.4em;box-sizing: border-box;padding-bottom: 0.4em;background-color: white;}#sk-container-id-1 div.sk-label label {font-family: monospace;font-weight: bold;display: inline-block;line-height: 1.2em;}#sk-container-id-1 div.sk-label-container {text-align: center;}#sk-container-id-1 div.sk-container {/* jupyter's `normalize.less` sets `[hidden] { display: none; }` but bootstrap.min.css set `[hidden] { display: none !important; }` so we also need the `!important` here to be able to override the default hidden behavior on the sphinx rendered scikit-learn.org. See: https://github.com/scikit-learn/scikit-learn/issues/21755 */display: inline-block !important;position: relative;}#sk-container-id-1 div.sk-text-repr-fallback {display: none;}</style><div id=\"sk-container-id-1\" class=\"sk-top-container\"><div class=\"sk-text-repr-fallback\"><pre>GaussianNB()</pre><b>In a Jupyter environment, please rerun this cell to show the HTML representation or trust the notebook. <br />On GitHub, the HTML representation is unable to render, please try loading this page with nbviewer.org.</b></div><div class=\"sk-container\" hidden><div class=\"sk-item\"><div class=\"sk-estimator sk-toggleable\"><input class=\"sk-toggleable__control sk-hidden--visually\" id=\"sk-estimator-id-1\" type=\"checkbox\" checked><label for=\"sk-estimator-id-1\" class=\"sk-toggleable__label sk-toggleable__label-arrow\">GaussianNB</label><div class=\"sk-toggleable__content\"><pre>GaussianNB()</pre></div></div></div></div></div>"
      ],
      "text/plain": [
       "GaussianNB()"
      ]
     },
     "execution_count": 147,
     "metadata": {},
     "output_type": "execute_result"
    }
   ],
   "source": [
    "clf = GaussianNB()\n",
    "\n",
    "clf.fit(X_train, y_train)"
   ]
  },
  {
   "cell_type": "code",
   "execution_count": 148,
   "id": "2ae4dd23",
   "metadata": {},
   "outputs": [],
   "source": [
    "y_pred = clf.predict(X_test)\n",
    "y_prob = clf.predict_proba(X_test) [:,1] "
   ]
  },
  {
   "cell_type": "code",
   "execution_count": 188,
   "id": "c912dd28",
   "metadata": {},
   "outputs": [
    {
     "data": {
      "image/png": "[encoded data removed]",
      "text/plain": [
       "<Figure size 640x480 with 1 Axes>"
      ]
     },
     "metadata": {},
     "output_type": "display_data"
    }
   ],
   "source": [
    "fpr, tpr, thresh = roc_curve(y_test, y_prob)\n",
    "plt.plot(fpr, tpr)\n",
    "plt.title('ROC curve');"
   ]
  },
  {
   "cell_type": "markdown",
   "id": "6e76c8ed",
   "metadata": {},
   "source": [
    "### Validation on test dataset"
   ]
  },
  {
   "cell_type": "code",
   "execution_count": 180,
   "id": "d6089e4a",
   "metadata": {},
   "outputs": [
    {
     "data": {
      "text/plain": [
       "array([[5427655,  219170],\n",
       "       [ 181463,  332747]])"
      ]
     },
     "execution_count": 180,
     "metadata": {},
     "output_type": "execute_result"
    }
   ],
   "source": [
    "import sklearn.metrics\n",
    "\n",
    "C = sklearn.metrics.confusion_matrix(y_test, y_pred)\n",
    "C"
   ]
  },
  {
   "cell_type": "code",
   "execution_count": 187,
   "id": "53bde24a",
   "metadata": {},
   "outputs": [
    {
     "name": "stdout",
     "output_type": "stream",
     "text": [
      "completeness test 0.6471033235448552\n",
      "contamination test 0.3971068113502574\n"
     ]
    }
   ],
   "source": [
    "tn, fp, fn, tp = C.ravel()\n",
    "\n",
    "print(\"completeness test\", tp/(tp+fn))\n",
    "print(\"contamination test\", fp/(tp+fp))"
   ]
  },
  {
   "cell_type": "markdown",
   "id": "d70252d3",
   "metadata": {},
   "source": [
    "### Validation on training dataset"
   ]
  },
  {
   "cell_type": "code",
   "execution_count": 183,
   "id": "0c4700a4",
   "metadata": {},
   "outputs": [],
   "source": [
    "y_pred_ = clf.predict(X_train)"
   ]
  },
  {
   "cell_type": "code",
   "execution_count": 184,
   "id": "6005e9e2",
   "metadata": {},
   "outputs": [
    {
     "data": {
      "text/plain": [
       "array([[11021423,   444535],\n",
       "       [  367187,   675622]])"
      ]
     },
     "execution_count": 184,
     "metadata": {},
     "output_type": "execute_result"
    }
   ],
   "source": [
    "C_train = sklearn.metrics.confusion_matrix(y_train, y_pred_)\n",
    "C_train"
   ]
  },
  {
   "cell_type": "code",
   "execution_count": 190,
   "id": "48f1f6ae",
   "metadata": {},
   "outputs": [
    {
     "name": "stdout",
     "output_type": "stream",
     "text": [
      "completeness train 0.6478866216152718\n",
      "contamination train 0.39685062004701127\n",
      "precision train 0.6031493799529888\n"
     ]
    }
   ],
   "source": [
    "tn_, fp_, fn_, tp_ = C_train.ravel()\n",
    "\n",
    "print(\"completeness train\", tp_/(tp_+fn_))\n",
    "print(\"contamination train\", fp_/(tp_+fp_))"
   ]
  },
  {
   "cell_type": "markdown",
   "id": "30b280c4",
   "metadata": {},
   "source": [
    "So the Naive Bayes algorithm is fast and easy but yields a very high contamination (contamination test). It is certainly not the best one. How many did the regressor get right?"
   ]
  },
  {
   "cell_type": "code",
   "execution_count": 189,
   "id": "5bf61529",
   "metadata": {},
   "outputs": [
    {
     "data": {
      "text/plain": [
       "0.9349731011104465"
      ]
     },
     "execution_count": 189,
     "metadata": {},
     "output_type": "execute_result"
    }
   ],
   "source": [
    "np.sum(C.diagonal())/len(y_test)"
   ]
  },
  {
   "cell_type": "markdown",
   "id": "a0f3118e",
   "metadata": {},
   "source": [
    "93.5% isn't so bad right?"
   ]
  },
  {
   "cell_type": "markdown",
   "id": "0414fb53",
   "metadata": {},
   "source": [
    "### Trying other classifiers"
   ]
  }
 ],
 "metadata": {
  "kernelspec": {
   "display_name": "Python 3 (ipykernel)",
   "language": "python",
   "name": "python3"
  },
  "language_info": {
   "codemirror_mode": {
    "name": "ipython",
    "version": 3
   },
   "file_extension": ".py",
   "mimetype": "text/x-python",
   "name": "python",
   "nbconvert_exporter": "python",
   "pygments_lexer": "ipython3",
   "version": "3.10.10"
  }
 },
 "nbformat": 4,
 "nbformat_minor": 5
}
